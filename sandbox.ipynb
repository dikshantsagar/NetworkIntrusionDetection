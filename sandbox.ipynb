{
 "cells": [
  {
   "cell_type": "code",
   "execution_count": 98,
   "metadata": {},
   "outputs": [],
   "source": [
    "def parse_ovs_dump_ports_output(output):\n",
    "    \"\"\"Parses the output of 'ovs-ofctl dump-ports s1' command and extracts important values.\"\"\"\n",
    "    lines = output.splitlines()[1:]\n",
    "    lines = [' '.join(lines[i:i+2]) for i in range(0,len(lines)-1,2)]\n",
    "\n",
    "    values = {}\n",
    "    for line in lines:\n",
    "        # print(line,'####')\n",
    "        \n",
    "        if \"port \" in line and 'LOCAL' not in line:\n",
    "            port_name = line.split(\"port \")[1].split(\":\")[0].strip()\n",
    "            port_name = int(port_name[-2])\n",
    "            values[port_name] = {}\n",
    "            tmp = line.split('            ')\n",
    "            # print(tmp)\n",
    "\n",
    "            rx_packets = int(tmp[0].split(\"rx pkts=\")[1].split(\",\")[0].strip())\n",
    "            values[port_name][\"rx pkts\"] = rx_packets\n",
    "\n",
    "            rx_bytes = int(tmp[0].split(\"bytes=\")[1].split(\",\")[0].strip())\n",
    "            values[port_name][\"rx bytes\"] = rx_bytes\n",
    "\n",
    "            tx_packets = int(tmp[1].split(\"tx pkts=\")[1].split(\",\")[0].strip())\n",
    "            values[port_name][\"tx pkts\"] = rx_packets\n",
    "\n",
    "            tx_bytes = int(tmp[1].split(\"bytes=\")[1].split(\",\")[0].strip())\n",
    "            values[port_name][\"tx bytes\"] = rx_bytes\n",
    "    return values\n"
   ]
  },
  {
   "cell_type": "code",
   "execution_count": 107,
   "metadata": {},
   "outputs": [],
   "source": [
    "pdata = parse_ovs_dump_ports_output(out)"
   ]
  },
  {
   "cell_type": "code",
   "execution_count": 93,
   "metadata": {},
   "outputs": [],
   "source": [
    "out = 'OFPST_PORT reply (xid=0x2): 4 ports\\n  port LOCAL: rx pkts=0, bytes=0, drop=156, errs=0, frame=0, over=0, crc=0\\n           tx pkts=0, bytes=0, drop=0, errs=0, coll=0\\n  port  \"s1-eth1\": rx pkts=60, bytes=5638, drop=0, errs=0, frame=0, over=0, crc=0\\n           tx pkts=157, bytes=15040, drop=0, errs=0, coll=0\\n  port  \"s1-eth2\": rx pkts=80, bytes=7070, drop=0, errs=0, frame=0, over=0, crc=0\\n           tx pkts=151, bytes=14644, drop=0, errs=0, coll=0\\n  port  \"s1-eth3\": rx pkts=79, bytes=6980, drop=0, errs=0, frame=0, over=0, crc=0\\n           tx pkts=153, bytes=14824, drop=0, errs=0, coll=0'"
   ]
  },
  {
   "cell_type": "code",
   "execution_count": 35,
   "metadata": {},
   "outputs": [
    {
     "name": "stdout",
     "output_type": "stream",
     "text": [
      "OFPST_PORT reply (xid=0x2): 4 ports\n",
      "  port LOCAL: rx pkts=0, bytes=0, drop=156, errs=0, frame=0, over=0, crc=0\n",
      "           tx pkts=0, bytes=0, drop=0, errs=0, coll=0\n",
      "  port  1: rx pkts=60, bytes=5638, drop=0, errs=0, frame=0, over=0, crc=0\n",
      "           tx pkts=157, bytes=15040, drop=0, errs=0, coll=0\n",
      "  port  2: rx pkts=80, bytes=7070, drop=0, errs=0, frame=0, over=0, crc=0\n",
      "           tx pkts=151, bytes=14644, drop=0, errs=0, coll=0\n",
      "  port  3: rx pkts=79, bytes=6980, drop=0, errs=0, frame=0, over=0, crc=0\n",
      "           tx pkts=153, bytes=14824, drop=0, errs=0, coll=0\n"
     ]
    }
   ],
   "source": [
    "print(out)"
   ]
  },
  {
   "cell_type": "code",
   "execution_count": 100,
   "metadata": {},
   "outputs": [],
   "source": [
    "tab = 'OFPST_TABLE reply (xid=0x2):\\n  table 0:\\n    active=1, lookup=217, matched=217\\n    max_entries=1000000\\n    matching:\\n      exact match or wildcard: in_port eth_{src,dst,type} vlan_{vid,pcp} ip_{src,dst} nw_{proto,tos} tcp_{src,dst}\\n\\n  table 1:\\n    active=0, lookup=0, matched=0\\n    (same features)\\n\\n  tables 2...253: ditto'"
   ]
  },
  {
   "cell_type": "code",
   "execution_count": 102,
   "metadata": {},
   "outputs": [
    {
     "name": "stdout",
     "output_type": "stream",
     "text": [
      "['OFPST_TABLE reply (xid=0x2):', '  table 0:', '    active=1, lookup=217, matched=217', '    max_entries=1000000', '    matching:', '      exact match or wildcard: in_port eth_{src,dst,type} vlan_{vid,pcp} ip_{src,dst} nw_{proto,tos} tcp_{src,dst}', '', '  table 1:', '    active=0, lookup=0, matched=0', '    (same features)', '', '  tables 2...253: ditto']\n"
     ]
    }
   ],
   "source": [
    "print(tab.splitlines())"
   ]
  },
  {
   "cell_type": "code",
   "execution_count": 118,
   "metadata": {},
   "outputs": [],
   "source": [
    "def get_dump_tables(inp):\n",
    "\n",
    "    tmp = inp.splitlines()[2]\n",
    "\n",
    "    active = int(tmp.split(\"active=\")[1].split(\",\")[0].strip())\n",
    "    lookup = int(tmp.split(\"lookup=\")[1].split(\",\")[0].strip())\n",
    "    matched = int(tmp.split(\"matched=\")[1].split(\",\")[0].strip())\n",
    "\n",
    "    \n",
    "    return [active,lookup,matched]\n"
   ]
  },
  {
   "cell_type": "code",
   "execution_count": 119,
   "metadata": {},
   "outputs": [],
   "source": [
    "tdata = get_dump_tables(tab)"
   ]
  },
  {
   "cell_type": "code",
   "execution_count": 108,
   "metadata": {},
   "outputs": [],
   "source": [
    "deltadic = {1 : {'rx pkts': 0, 'rx bytes': 0, 'tx pkts': 0, 'tx bytes': 0},\n",
    "          2 : {'rx pkts': 0, 'rx bytes': 0, 'tx pkts': 0, 'tx bytes': 0},\n",
    "          3 : {'rx pkts': 0, 'rx bytes': 0, 'tx pkts': 0, 'tx bytes': 0}}"
   ]
  },
  {
   "cell_type": "code",
   "execution_count": 112,
   "metadata": {},
   "outputs": [
    {
     "data": {
      "text/plain": [
       "[[60, 5638, 60, 5638], [80, 7070, 80, 7070], [79, 6980, 79, 6980]]"
      ]
     },
     "execution_count": 112,
     "metadata": {},
     "output_type": "execute_result"
    }
   ],
   "source": [
    "deltas = []\n",
    "for port, data in pdata.items():\n",
    "    tmp = []\n",
    "    for f, d in data.items():\n",
    "        tmp.append(pdata[port][f] - deltadic[port][f])\n",
    "    deltas.append(tmp)\n",
    "\n",
    "deltas"
   ]
  },
  {
   "cell_type": "code",
   "execution_count": 113,
   "metadata": {},
   "outputs": [
    {
     "data": {
      "text/plain": [
       "[[60, 5638, 60, 5638], [80, 7070, 80, 7070], [79, 6980, 79, 6980]]"
      ]
     },
     "execution_count": 113,
     "metadata": {},
     "output_type": "execute_result"
    }
   ],
   "source": [
    "pdatalist = []\n",
    "for port, data in pdata.items():\n",
    "    tmp = []\n",
    "    for f, d in data.items():\n",
    "        tmp.append(pdata[port][f])\n",
    "    pdatalist.append(tmp)\n",
    "\n",
    "pdatalist"
   ]
  },
  {
   "cell_type": "code",
   "execution_count": 120,
   "metadata": {},
   "outputs": [
    {
     "data": {
      "text/plain": [
       "[[60, 5638, 60, 5638, 60, 5638, 60, 5638, 1, 1, 217, 217],\n",
       " [80, 7070, 80, 7070, 80, 7070, 80, 7070, 2, 1, 217, 217],\n",
       " [79, 6980, 79, 6980, 79, 6980, 79, 6980, 3, 1, 217, 217]]"
      ]
     },
     "execution_count": 120,
     "metadata": {},
     "output_type": "execute_result"
    }
   ],
   "source": [
    "[pdatalist[i]+deltas[i]+[list(pdata.keys())[i]]+tdata for i in range(len(deltas))]"
   ]
  },
  {
   "cell_type": "code",
   "execution_count": null,
   "metadata": {},
   "outputs": [],
   "source": []
  }
 ],
 "metadata": {
  "kernelspec": {
   "display_name": "base",
   "language": "python",
   "name": "python3"
  },
  "language_info": {
   "codemirror_mode": {
    "name": "ipython",
    "version": 3
   },
   "file_extension": ".py",
   "mimetype": "text/x-python",
   "name": "python",
   "nbconvert_exporter": "python",
   "pygments_lexer": "ipython3",
   "version": "3.10.9"
  },
  "orig_nbformat": 4
 },
 "nbformat": 4,
 "nbformat_minor": 2
}
